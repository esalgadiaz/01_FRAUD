{
 "cells": [
  {
   "cell_type": "markdown",
   "metadata": {},
   "source": [
    "# Data processing"
   ]
  },
  {
   "cell_type": "markdown",
   "metadata": {},
   "source": [
    "Our objective is to model the data previously studied in *00_EDA.ipynb*, and obtain the probabilities of fraud in each of the transactions."
   ]
  },
  {
   "cell_type": "markdown",
   "metadata": {},
   "source": [
    "### Libraries"
   ]
  },
  {
   "cell_type": "code",
   "execution_count": 1,
   "metadata": {},
   "outputs": [],
   "source": [
    "from imblearn.over_sampling import SMOTE, KMeansSMOTE, BorderlineSMOTE\n",
    "from imblearn.combine import SMOTEENN\n",
    "from imblearn.pipeline import Pipeline \n",
    "\n",
    "from sklearn.linear_model import LinearRegression, LogisticRegression, Lasso\n",
    "from sklearn.model_selection import train_test_split, GridSearchCV\n",
    "from sklearn.tree import DecisionTreeClassifier\n",
    "from sklearn.metrics import r2_score, classification_report, ConfusionMatrixDisplay, confusion_matrix, accuracy_score, roc_auc_score, roc_curve, precision_recall_curve, average_precision_score\n",
    "from sklearn.dummy import DummyClassifier\n",
    "from sklearn.preprocessing import StandardScaler\n",
    "import category_encoders as ce\n",
    "from sklearn.preprocessing import OneHotEncoder\n",
    "\n",
    "import pandas as pd\n",
    "import numpy as np\n",
    "import seaborn as sns\n",
    "import matplotlib.pyplot as plt\n",
    "\n",
    "from collections import Counter\n",
    "\n",
    "import warnings\n",
    "warnings.filterwarnings('ignore')"
   ]
  },
  {
   "cell_type": "markdown",
   "metadata": {},
   "source": [
    "### Pre-processed data\n"
   ]
  },
  {
   "cell_type": "code",
   "execution_count": 2,
   "metadata": {},
   "outputs": [],
   "source": [
    "file = '../data/raw/Original_dataset_payments_fraud.csv'\n",
    "df = pd.read_csv(file, sep=';')"
   ]
  },
  {
   "cell_type": "markdown",
   "metadata": {},
   "source": [
    "#### Filter sensitive information, delete gender and race columns"
   ]
  },
  {
   "cell_type": "markdown",
   "metadata": {},
   "source": [
    "Researching legislation in the European Union, we decided to eliminate race and sex.\n",
    "\n",
    "Source: https://ec.europa.eu/info/law/law-topic/data-protection/reform/rules-business-and-organisations/legal-grounds-processing-data/sensitive-data/what-personal-data-considered-sensitive_en"
   ]
  },
  {
   "cell_type": "code",
   "execution_count": 3,
   "metadata": {},
   "outputs": [],
   "source": [
    "df = df.drop(columns=['gender', 'race'])"
   ]
  },
  {
   "cell_type": "markdown",
   "metadata": {},
   "source": [
    "As we have seen previously in the EDA study, there are different variables that appear Nan, for which there are different ways to treat these Nan. In this case, we have decided to treat the different Nan by changing them to unknown.\n",
    "\n",
    "We are going to pass the *nan* to 'Unknown' in order to treat them as a new variable within these categories."
   ]
  },
  {
   "cell_type": "code",
   "execution_count": 4,
   "metadata": {},
   "outputs": [],
   "source": [
    "df[['device', 'zone']] = df[['device','zone']].fillna('Unknown')"
   ]
  },
  {
   "cell_type": "markdown",
   "metadata": {},
   "source": [
    "Now we see again the types of columns that we have"
   ]
  },
  {
   "cell_type": "code",
   "execution_count": 5,
   "metadata": {
    "scrolled": true
   },
   "outputs": [
    {
     "name": "stdout",
     "output_type": "stream",
     "text": [
      "<class 'pandas.core.frame.DataFrame'>\n",
      "RangeIndex: 1048575 entries, 0 to 1048574\n",
      "Data columns (total 17 columns):\n",
      " #   Column            Non-Null Count    Dtype  \n",
      "---  ------            --------------    -----  \n",
      " 0   step              1048575 non-null  int64  \n",
      " 1   type              1048575 non-null  object \n",
      " 2   amount            1048575 non-null  float64\n",
      " 3   device            1048575 non-null  object \n",
      " 4   connection_time   1048575 non-null  object \n",
      " 5   nameOrig          1048575 non-null  object \n",
      " 6   oldbalanceOrg     1048575 non-null  float64\n",
      " 7   age               1048575 non-null  int64  \n",
      " 8   newbalanceOrig    1048575 non-null  float64\n",
      " 9   zone              1048575 non-null  object \n",
      " 10  user_number       1048575 non-null  int64  \n",
      " 11  nameDest          1048575 non-null  object \n",
      " 12  user_connections  1048575 non-null  int64  \n",
      " 13  security_alert    1048575 non-null  int64  \n",
      " 14  oldbalanceDest    1048575 non-null  float64\n",
      " 15  newbalanceDest    1048575 non-null  float64\n",
      " 16  isFraud           1048575 non-null  int64  \n",
      "dtypes: float64(5), int64(6), object(6)\n",
      "memory usage: 136.0+ MB\n"
     ]
    }
   ],
   "source": [
    "df.info()"
   ]
  },
  {
   "cell_type": "markdown",
   "metadata": {},
   "source": [
    "In the EDA study, we have realized that the variables nameOrig and nameDest are the types of transactions that have been made, so we are going to eliminate these two columns and create a new column that reflects both. If we go deeper we see how the letter C indicates \"customer\" and M \"merchant\".\n",
    "Let's add a new feature that will indicate the type of account to which transactions are made. \n",
    "CC (customer - customer), CM (customer - merchant), etc. "
   ]
  },
  {
   "cell_type": "code",
   "execution_count": 6,
   "metadata": {},
   "outputs": [],
   "source": [
    "df[\"Transaction_type\"] = np.nan \n",
    "\n",
    "# filling feature column\n",
    "df.loc[df.nameOrig.str.contains('C') & df.nameDest.str.contains('C'), \"Transaction_type\"] = \"CC\" \n",
    "df.loc[df.nameOrig.str.contains('C') & df.nameDest.str.contains('M'), \"Transaction_type\"] = \"CM\"\n",
    "df.loc[df.nameOrig.str.contains('M') & df.nameDest.str.contains('C'), \"Transaction_type\"] = \"MC\"\n",
    "df.loc[df.nameOrig.str.contains('M') & df.nameDest.str.contains('M'), \"Transaction_type\"] = \"MM\""
   ]
  },
  {
   "cell_type": "markdown",
   "metadata": {},
   "source": [
    "Let's check which type of CC/CM/MC/MM Transactions are fraudulent."
   ]
  },
  {
   "cell_type": "code",
   "execution_count": 7,
   "metadata": {
    "scrolled": true
   },
   "outputs": [
    {
     "name": "stdout",
     "output_type": "stream",
     "text": [
      "Successful transactions: \n",
      " CC    693560\n",
      "CM    353873\n",
      "Name: Transaction_type, dtype: int64\n",
      "\n",
      " Fraudulent transactions: \n",
      " CC    1142\n",
      "Name: Transaction_type, dtype: int64\n"
     ]
    }
   ],
   "source": [
    "print(\"Successful transactions: \\n\",df[df[\"isFraud\"] == 0].Transaction_type.value_counts())\n",
    "print(\"\\n Fraudulent transactions: \\n\",df[df[\"isFraud\"] == 1].Transaction_type.value_counts())"
   ]
  },
  {
   "cell_type": "markdown",
   "metadata": {},
   "source": [
    "After printing out the transactions that have been fraudulent, we can see that there are only fraudulent transactions in which Client-Clients are the recipients,it is important for the further development of the different models. "
   ]
  },
  {
   "cell_type": "markdown",
   "metadata": {},
   "source": [
    "Delete the columns *nameOrig* and *nameDest*."
   ]
  },
  {
   "cell_type": "code",
   "execution_count": 8,
   "metadata": {},
   "outputs": [],
   "source": [
    "df = df.drop(columns=['nameOrig', 'nameDest'])"
   ]
  },
  {
   "cell_type": "code",
   "execution_count": 9,
   "metadata": {
    "scrolled": true
   },
   "outputs": [
    {
     "data": {
      "text/html": [
       "<div>\n",
       "<style scoped>\n",
       "    .dataframe tbody tr th:only-of-type {\n",
       "        vertical-align: middle;\n",
       "    }\n",
       "\n",
       "    .dataframe tbody tr th {\n",
       "        vertical-align: top;\n",
       "    }\n",
       "\n",
       "    .dataframe thead th {\n",
       "        text-align: right;\n",
       "    }\n",
       "</style>\n",
       "<table border=\"1\" class=\"dataframe\">\n",
       "  <thead>\n",
       "    <tr style=\"text-align: right;\">\n",
       "      <th></th>\n",
       "      <th>step</th>\n",
       "      <th>type</th>\n",
       "      <th>amount</th>\n",
       "      <th>device</th>\n",
       "      <th>connection_time</th>\n",
       "      <th>oldbalanceOrg</th>\n",
       "      <th>age</th>\n",
       "      <th>newbalanceOrig</th>\n",
       "      <th>zone</th>\n",
       "      <th>user_number</th>\n",
       "      <th>user_connections</th>\n",
       "      <th>security_alert</th>\n",
       "      <th>oldbalanceDest</th>\n",
       "      <th>newbalanceDest</th>\n",
       "      <th>isFraud</th>\n",
       "      <th>Transaction_type</th>\n",
       "    </tr>\n",
       "  </thead>\n",
       "  <tbody>\n",
       "    <tr>\n",
       "      <th>0</th>\n",
       "      <td>1</td>\n",
       "      <td>PAYMENT</td>\n",
       "      <td>9839.64</td>\n",
       "      <td>mac</td>\n",
       "      <td>0,140039412</td>\n",
       "      <td>170136.0</td>\n",
       "      <td>85</td>\n",
       "      <td>160296.36</td>\n",
       "      <td>capital</td>\n",
       "      <td>138</td>\n",
       "      <td>5</td>\n",
       "      <td>1</td>\n",
       "      <td>0.0</td>\n",
       "      <td>0.0</td>\n",
       "      <td>0</td>\n",
       "      <td>CM</td>\n",
       "    </tr>\n",
       "    <tr>\n",
       "      <th>1</th>\n",
       "      <td>1</td>\n",
       "      <td>PAYMENT</td>\n",
       "      <td>1864.28</td>\n",
       "      <td>mac</td>\n",
       "      <td>0,496889534</td>\n",
       "      <td>21249.0</td>\n",
       "      <td>57</td>\n",
       "      <td>19384.72</td>\n",
       "      <td>country</td>\n",
       "      <td>909</td>\n",
       "      <td>1</td>\n",
       "      <td>0</td>\n",
       "      <td>0.0</td>\n",
       "      <td>0.0</td>\n",
       "      <td>0</td>\n",
       "      <td>CM</td>\n",
       "    </tr>\n",
       "    <tr>\n",
       "      <th>2</th>\n",
       "      <td>1</td>\n",
       "      <td>TRANSFER</td>\n",
       "      <td>181.00</td>\n",
       "      <td>pc</td>\n",
       "      <td>0,781150327</td>\n",
       "      <td>181.0</td>\n",
       "      <td>66</td>\n",
       "      <td>0.00</td>\n",
       "      <td>capital</td>\n",
       "      <td>2569</td>\n",
       "      <td>10</td>\n",
       "      <td>0</td>\n",
       "      <td>0.0</td>\n",
       "      <td>0.0</td>\n",
       "      <td>1</td>\n",
       "      <td>CC</td>\n",
       "    </tr>\n",
       "    <tr>\n",
       "      <th>3</th>\n",
       "      <td>1</td>\n",
       "      <td>CASH_OUT</td>\n",
       "      <td>181.00</td>\n",
       "      <td>mac</td>\n",
       "      <td>0,565068378</td>\n",
       "      <td>181.0</td>\n",
       "      <td>31</td>\n",
       "      <td>0.00</td>\n",
       "      <td>country</td>\n",
       "      <td>1787</td>\n",
       "      <td>3</td>\n",
       "      <td>0</td>\n",
       "      <td>21182.0</td>\n",
       "      <td>0.0</td>\n",
       "      <td>1</td>\n",
       "      <td>CC</td>\n",
       "    </tr>\n",
       "    <tr>\n",
       "      <th>4</th>\n",
       "      <td>1</td>\n",
       "      <td>PAYMENT</td>\n",
       "      <td>11668.14</td>\n",
       "      <td>mac</td>\n",
       "      <td>0,517114493</td>\n",
       "      <td>41554.0</td>\n",
       "      <td>90</td>\n",
       "      <td>29885.86</td>\n",
       "      <td>country</td>\n",
       "      <td>3997</td>\n",
       "      <td>8</td>\n",
       "      <td>0</td>\n",
       "      <td>0.0</td>\n",
       "      <td>0.0</td>\n",
       "      <td>0</td>\n",
       "      <td>CM</td>\n",
       "    </tr>\n",
       "  </tbody>\n",
       "</table>\n",
       "</div>"
      ],
      "text/plain": [
       "   step      type    amount device connection_time  oldbalanceOrg  age  \\\n",
       "0     1   PAYMENT   9839.64    mac     0,140039412       170136.0   85   \n",
       "1     1   PAYMENT   1864.28    mac     0,496889534        21249.0   57   \n",
       "2     1  TRANSFER    181.00     pc     0,781150327          181.0   66   \n",
       "3     1  CASH_OUT    181.00    mac     0,565068378          181.0   31   \n",
       "4     1   PAYMENT  11668.14    mac     0,517114493        41554.0   90   \n",
       "\n",
       "   newbalanceOrig     zone  user_number  user_connections  security_alert  \\\n",
       "0       160296.36  capital          138                 5               1   \n",
       "1        19384.72  country          909                 1               0   \n",
       "2            0.00  capital         2569                10               0   \n",
       "3            0.00  country         1787                 3               0   \n",
       "4        29885.86  country         3997                 8               0   \n",
       "\n",
       "   oldbalanceDest  newbalanceDest  isFraud Transaction_type  \n",
       "0             0.0             0.0        0               CM  \n",
       "1             0.0             0.0        0               CM  \n",
       "2             0.0             0.0        1               CC  \n",
       "3         21182.0             0.0        1               CC  \n",
       "4             0.0             0.0        0               CM  "
      ]
     },
     "execution_count": 9,
     "metadata": {},
     "output_type": "execute_result"
    }
   ],
   "source": [
    "df.head()"
   ]
  },
  {
   "cell_type": "markdown",
   "metadata": {},
   "source": [
    "As noted above in the EDA, it may be helpful to create two new variables representing the day number and the time of day when these transactions occur."
   ]
  },
  {
   "cell_type": "code",
   "execution_count": 10,
   "metadata": {},
   "outputs": [],
   "source": [
    "df[\"HourOfDay\"] = np.nan # initializing feature column\n",
    "df[\"Day\"] = np.nan # initializing feature column\n",
    "\n",
    "df.HourOfDay = df.step % 24\n",
    "df.Day = (df.step//24) % 7"
   ]
  },
  {
   "cell_type": "markdown",
   "metadata": {},
   "source": [
    "### We deal with categorical variables"
   ]
  },
  {
   "cell_type": "code",
   "execution_count": 11,
   "metadata": {},
   "outputs": [],
   "source": [
    "X = df.drop('isFraud',axis = 1)  # Data\n",
    "Y = df.isFraud # target variable"
   ]
  },
  {
   "cell_type": "markdown",
   "metadata": {},
   "source": [
    "For the categorical variables we have decided to use the OneHotEncoder in order to be able to treat them and start the transformation into numerical variables."
   ]
  },
  {
   "cell_type": "code",
   "execution_count": 12,
   "metadata": {},
   "outputs": [],
   "source": [
    "df1 = df.copy()\n",
    "categorical_columns = ['type', 'device', 'zone', 'Transaction_type']\n",
    "\n",
    "ohe = ce.OneHotEncoder() \n",
    "df1 = ohe.fit_transform(df[categorical_columns], Y)\n",
    "\n",
    "df = df.join(df1)"
   ]
  },
  {
   "cell_type": "code",
   "execution_count": 13,
   "metadata": {},
   "outputs": [],
   "source": [
    "#Delete categorical variables\n",
    "df = df.drop(columns=categorical_columns)"
   ]
  },
  {
   "cell_type": "markdown",
   "metadata": {},
   "source": [
    "#### This is what our new data set would look like after preprocessing."
   ]
  },
  {
   "cell_type": "code",
   "execution_count": 14,
   "metadata": {},
   "outputs": [
    {
     "data": {
      "text/html": [
       "<div>\n",
       "<style scoped>\n",
       "    .dataframe tbody tr th:only-of-type {\n",
       "        vertical-align: middle;\n",
       "    }\n",
       "\n",
       "    .dataframe tbody tr th {\n",
       "        vertical-align: top;\n",
       "    }\n",
       "\n",
       "    .dataframe thead th {\n",
       "        text-align: right;\n",
       "    }\n",
       "</style>\n",
       "<table border=\"1\" class=\"dataframe\">\n",
       "  <thead>\n",
       "    <tr style=\"text-align: right;\">\n",
       "      <th></th>\n",
       "      <th>step</th>\n",
       "      <th>amount</th>\n",
       "      <th>connection_time</th>\n",
       "      <th>oldbalanceOrg</th>\n",
       "      <th>age</th>\n",
       "      <th>newbalanceOrig</th>\n",
       "      <th>user_number</th>\n",
       "      <th>user_connections</th>\n",
       "      <th>security_alert</th>\n",
       "      <th>oldbalanceDest</th>\n",
       "      <th>...</th>\n",
       "      <th>device_1</th>\n",
       "      <th>device_2</th>\n",
       "      <th>device_3</th>\n",
       "      <th>device_4</th>\n",
       "      <th>zone_1</th>\n",
       "      <th>zone_2</th>\n",
       "      <th>zone_3</th>\n",
       "      <th>zone_4</th>\n",
       "      <th>Transaction_type_1</th>\n",
       "      <th>Transaction_type_2</th>\n",
       "    </tr>\n",
       "  </thead>\n",
       "  <tbody>\n",
       "    <tr>\n",
       "      <th>0</th>\n",
       "      <td>1</td>\n",
       "      <td>9839.64</td>\n",
       "      <td>0,140039412</td>\n",
       "      <td>170136.0</td>\n",
       "      <td>85</td>\n",
       "      <td>160296.36</td>\n",
       "      <td>138</td>\n",
       "      <td>5</td>\n",
       "      <td>1</td>\n",
       "      <td>0.0</td>\n",
       "      <td>...</td>\n",
       "      <td>1</td>\n",
       "      <td>0</td>\n",
       "      <td>0</td>\n",
       "      <td>0</td>\n",
       "      <td>1</td>\n",
       "      <td>0</td>\n",
       "      <td>0</td>\n",
       "      <td>0</td>\n",
       "      <td>1</td>\n",
       "      <td>0</td>\n",
       "    </tr>\n",
       "    <tr>\n",
       "      <th>1</th>\n",
       "      <td>1</td>\n",
       "      <td>1864.28</td>\n",
       "      <td>0,496889534</td>\n",
       "      <td>21249.0</td>\n",
       "      <td>57</td>\n",
       "      <td>19384.72</td>\n",
       "      <td>909</td>\n",
       "      <td>1</td>\n",
       "      <td>0</td>\n",
       "      <td>0.0</td>\n",
       "      <td>...</td>\n",
       "      <td>1</td>\n",
       "      <td>0</td>\n",
       "      <td>0</td>\n",
       "      <td>0</td>\n",
       "      <td>0</td>\n",
       "      <td>1</td>\n",
       "      <td>0</td>\n",
       "      <td>0</td>\n",
       "      <td>1</td>\n",
       "      <td>0</td>\n",
       "    </tr>\n",
       "    <tr>\n",
       "      <th>2</th>\n",
       "      <td>1</td>\n",
       "      <td>181.00</td>\n",
       "      <td>0,781150327</td>\n",
       "      <td>181.0</td>\n",
       "      <td>66</td>\n",
       "      <td>0.00</td>\n",
       "      <td>2569</td>\n",
       "      <td>10</td>\n",
       "      <td>0</td>\n",
       "      <td>0.0</td>\n",
       "      <td>...</td>\n",
       "      <td>0</td>\n",
       "      <td>1</td>\n",
       "      <td>0</td>\n",
       "      <td>0</td>\n",
       "      <td>1</td>\n",
       "      <td>0</td>\n",
       "      <td>0</td>\n",
       "      <td>0</td>\n",
       "      <td>0</td>\n",
       "      <td>1</td>\n",
       "    </tr>\n",
       "    <tr>\n",
       "      <th>3</th>\n",
       "      <td>1</td>\n",
       "      <td>181.00</td>\n",
       "      <td>0,565068378</td>\n",
       "      <td>181.0</td>\n",
       "      <td>31</td>\n",
       "      <td>0.00</td>\n",
       "      <td>1787</td>\n",
       "      <td>3</td>\n",
       "      <td>0</td>\n",
       "      <td>21182.0</td>\n",
       "      <td>...</td>\n",
       "      <td>1</td>\n",
       "      <td>0</td>\n",
       "      <td>0</td>\n",
       "      <td>0</td>\n",
       "      <td>0</td>\n",
       "      <td>1</td>\n",
       "      <td>0</td>\n",
       "      <td>0</td>\n",
       "      <td>0</td>\n",
       "      <td>1</td>\n",
       "    </tr>\n",
       "    <tr>\n",
       "      <th>4</th>\n",
       "      <td>1</td>\n",
       "      <td>11668.14</td>\n",
       "      <td>0,517114493</td>\n",
       "      <td>41554.0</td>\n",
       "      <td>90</td>\n",
       "      <td>29885.86</td>\n",
       "      <td>3997</td>\n",
       "      <td>8</td>\n",
       "      <td>0</td>\n",
       "      <td>0.0</td>\n",
       "      <td>...</td>\n",
       "      <td>1</td>\n",
       "      <td>0</td>\n",
       "      <td>0</td>\n",
       "      <td>0</td>\n",
       "      <td>0</td>\n",
       "      <td>1</td>\n",
       "      <td>0</td>\n",
       "      <td>0</td>\n",
       "      <td>1</td>\n",
       "      <td>0</td>\n",
       "    </tr>\n",
       "  </tbody>\n",
       "</table>\n",
       "<p>5 rows × 29 columns</p>\n",
       "</div>"
      ],
      "text/plain": [
       "   step    amount connection_time  oldbalanceOrg  age  newbalanceOrig  \\\n",
       "0     1   9839.64     0,140039412       170136.0   85       160296.36   \n",
       "1     1   1864.28     0,496889534        21249.0   57        19384.72   \n",
       "2     1    181.00     0,781150327          181.0   66            0.00   \n",
       "3     1    181.00     0,565068378          181.0   31            0.00   \n",
       "4     1  11668.14     0,517114493        41554.0   90        29885.86   \n",
       "\n",
       "   user_number  user_connections  security_alert  oldbalanceDest  ...  \\\n",
       "0          138                 5               1             0.0  ...   \n",
       "1          909                 1               0             0.0  ...   \n",
       "2         2569                10               0             0.0  ...   \n",
       "3         1787                 3               0         21182.0  ...   \n",
       "4         3997                 8               0             0.0  ...   \n",
       "\n",
       "   device_1  device_2  device_3  device_4  zone_1  zone_2  zone_3  zone_4  \\\n",
       "0         1         0         0         0       1       0       0       0   \n",
       "1         1         0         0         0       0       1       0       0   \n",
       "2         0         1         0         0       1       0       0       0   \n",
       "3         1         0         0         0       0       1       0       0   \n",
       "4         1         0         0         0       0       1       0       0   \n",
       "\n",
       "   Transaction_type_1  Transaction_type_2  \n",
       "0                   1                   0  \n",
       "1                   1                   0  \n",
       "2                   0                   1  \n",
       "3                   0                   1  \n",
       "4                   1                   0  \n",
       "\n",
       "[5 rows x 29 columns]"
      ]
     },
     "execution_count": 14,
     "metadata": {},
     "output_type": "execute_result"
    }
   ],
   "source": [
    "df.head()"
   ]
  },
  {
   "cell_type": "code",
   "execution_count": 15,
   "metadata": {},
   "outputs": [],
   "source": [
    "path = '../data/processed/'\n",
    "new_file = 'new_dataset_payments_fraud.parquet'\n",
    "\n",
    "df.to_parquet(path+new_file)"
   ]
  }
 ],
 "metadata": {
  "kernelspec": {
   "display_name": "practica0_b",
   "language": "python",
   "name": "practica0_b"
  },
  "language_info": {
   "codemirror_mode": {
    "name": "ipython",
    "version": 3
   },
   "file_extension": ".py",
   "mimetype": "text/x-python",
   "name": "python",
   "nbconvert_exporter": "python",
   "pygments_lexer": "ipython3",
   "version": "3.9.13"
  },
  "vscode": {
   "interpreter": {
    "hash": "80bd0d5abd2a7a884e16db9052b989e55c2e5dd722adc4c7b5bf4c7fc204f5d6"
   }
  }
 },
 "nbformat": 4,
 "nbformat_minor": 2
}
